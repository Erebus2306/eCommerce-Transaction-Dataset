{
 "cells": [
  {
   "cell_type": "code",
   "execution_count": 1,
   "metadata": {},
   "outputs": [
    {
     "name": "stdout",
     "output_type": "stream",
     "text": [
      "  CustomerID  SimilarityScore\n",
      "2      C0003         0.762263\n",
      "3      C0004         0.305224\n",
      "1      C0002        -0.354028\n"
     ]
    }
   ],
   "source": [
    "import pandas as pd\n",
    "from sklearn.preprocessing import StandardScaler\n",
    "from sklearn.metrics.pairwise import cosine_similarity\n",
    "\n",
    "# Load customer data\n",
    "customers = pd.read_csv('/workspaces/eCommerce-Transaction-Dataset/Customers.csv')\n",
    "\n",
    "# Load product data\n",
    "products = pd.read_csv('/workspaces/eCommerce-Transaction-Dataset/Products.csv')\n",
    "\n",
    "# Sample transaction data (assuming it's available)\n",
    "transactions = pd.DataFrame({\n",
    "    'CustomerID': ['C0001', 'C0002', 'C0003', 'C0004'],\n",
    "    'ProductID': ['P001', 'P002', 'P003', 'P004'],\n",
    "    'PurchaseAmount': [20, 150, 50, 80]\n",
    "})\n",
    "\n",
    "# Merge customer and transaction data\n",
    "customer_transactions = pd.merge(customers, transactions, on='CustomerID')\n",
    "customer_transactions = pd.merge(customer_transactions, products, on='ProductID')\n",
    "\n",
    "# Feature engineering\n",
    "customer_features = customer_transactions.groupby('CustomerID').agg({\n",
    "    'Region': 'first',\n",
    "    'SignupDate': 'first',\n",
    "    'PurchaseAmount': 'sum',\n",
    "    'Price': 'mean',\n",
    "    'Category': lambda x: x.mode()[0]  # Assuming each customer has a dominant category\n",
    "}).reset_index()\n",
    "\n",
    "# Encode categorical features\n",
    "customer_features = pd.get_dummies(customer_features, columns=['Region', 'Category'])\n",
    "\n",
    "# Normalize numerical features\n",
    "scaler = StandardScaler()\n",
    "customer_features[['PurchaseAmount', 'Price']] = scaler.fit_transform(customer_features[['PurchaseAmount', 'Price']])\n",
    "\n",
    "# Function to find similar customers\n",
    "def find_similar_customers(customer_id, top_n=3):\n",
    "    target_customer = customer_features[customer_features['CustomerID'] == customer_id]\n",
    "    other_customers = customer_features[customer_features['CustomerID'] != customer_id]\n",
    "    \n",
    "    similarities = cosine_similarity(target_customer.drop(columns=['CustomerID', 'SignupDate']), other_customers.drop(columns=['CustomerID', 'SignupDate']))\n",
    "    other_customers = other_customers.copy()\n",
    "    other_customers.loc[:, 'SimilarityScore'] = similarities[0]\n",
    "    \n",
    "    similar_customers = other_customers.sort_values(by='SimilarityScore', ascending=False).head(top_n)\n",
    "    return similar_customers[['CustomerID', 'SimilarityScore']]\n",
    "\n",
    "# Example usage\n",
    "similar_customers = find_similar_customers('C0001')\n",
    "print(similar_customers)"
   ]
  }
 ],
 "metadata": {
  "kernelspec": {
   "display_name": "Python 3",
   "language": "python",
   "name": "python3"
  },
  "language_info": {
   "codemirror_mode": {
    "name": "ipython",
    "version": 3
   },
   "file_extension": ".py",
   "mimetype": "text/x-python",
   "name": "python",
   "nbconvert_exporter": "python",
   "pygments_lexer": "ipython3",
   "version": "3.12.1"
  }
 },
 "nbformat": 4,
 "nbformat_minor": 2
}
